{
 "cells": [
  {
   "cell_type": "code",
   "execution_count": 2,
   "id": "26ebdff4",
   "metadata": {},
   "outputs": [
    {
     "name": "stdout",
     "output_type": "stream",
     "text": [
      "Yukta Patel\n"
     ]
    }
   ],
   "source": [
    "print(\"Yukta Patel\")"
   ]
  },
  {
   "cell_type": "code",
   "execution_count": 1,
   "id": "7e63ca61",
   "metadata": {},
   "outputs": [
    {
     "name": "stdout",
     "output_type": "stream",
     "text": [
      "Hello data science\n"
     ]
    }
   ],
   "source": [
    " print(\"Hello data science\")"
   ]
  }
 ],
 "metadata": {
  "kernelspec": {
   "display_name": "Python 3 (ipykernel)",
   "language": "python",
   "name": "python3"
  },
  "language_info": {
   "codemirror_mode": {
    "name": "ipython",
    "version": 3
   },
   "file_extension": ".py",
   "mimetype": "text/x-python",
   "name": "python",
   "nbconvert_exporter": "python",
   "pygments_lexer": "ipython3",
   "version": "3.11.4"
  }
 },
 "nbformat": 4,
 "nbformat_minor": 5
}
